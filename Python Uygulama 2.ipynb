{
 "cells": [
  {
   "cell_type": "code",
   "execution_count": 76,
   "id": "ceaeaaa5-07ef-4259-a6d0-d29e628054e6",
   "metadata": {},
   "outputs": [
    {
     "name": "stdout",
     "output_type": "stream",
     "text": [
      "[61.09828148156051, 66.2117814289874, 31.38470965295043, 74.67261881037788, 86.97700845625813, 63.89053137985315, 36.235341863986875, 35.11409973215888, 67.94115100585212, 60.440052945046304]\n",
      "min dist: 31.38470965295043\n"
     ]
    }
   ],
   "source": [
    "import math\n",
    "points = [(37, 86), (15, 29), (97, 58), (64, 70), (47, 12)]\n",
    "\n",
    "distances = []\n",
    "\n",
    "#calculates euclideanDistance of two points and \n",
    "def euclideanDistance(pointA,pointB):\n",
    "    return math.sqrt(math.pow(pointB[0]-pointA[0],2)+math.pow(pointB[1]-pointA[1],2))\n",
    "\n",
    "# these 2 for loops finds all the combinations on the points and call the \n",
    "for index_for_pointA in range(len(points)):\n",
    "    for index_for_pointB in range(index_for_pointA+1,len(points)):\n",
    "        distances.append(euclideanDistance(points[index_for_pointA],points[index_for_pointB]))\n",
    "\n",
    "print(distances)\n",
    "min_dist = min(distances)\n",
    "print(\"min dist:\",min_dist)\n",
    "        "
   ]
  },
  {
   "cell_type": "code",
   "execution_count": null,
   "id": "34d813b2-df24-44ad-bd87-9dd9841481b6",
   "metadata": {},
   "outputs": [],
   "source": []
  }
 ],
 "metadata": {
  "kernelspec": {
   "display_name": "Python 3 (ipykernel)",
   "language": "python",
   "name": "python3"
  },
  "language_info": {
   "codemirror_mode": {
    "name": "ipython",
    "version": 3
   },
   "file_extension": ".py",
   "mimetype": "text/x-python",
   "name": "python",
   "nbconvert_exporter": "python",
   "pygments_lexer": "ipython3",
   "version": "3.11.7"
  }
 },
 "nbformat": 4,
 "nbformat_minor": 5
}
